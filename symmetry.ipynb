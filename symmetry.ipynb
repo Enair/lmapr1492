{
 "cells": [
  {
   "cell_type": "markdown",
   "id": "accompanied-schema",
   "metadata": {},
   "source": [
    "## Imports"
   ]
  },
  {
   "cell_type": "code",
   "execution_count": 1,
   "id": "homeless-marketing",
   "metadata": {},
   "outputs": [],
   "source": [
    "from pymatgen import MPRester\n",
    "from pymatgen.io.cif import CifWriter\n",
    "from pymatgen.symmetry.analyzer import *\n",
    "from pymatgen.core.operations import SymmOp\n",
    "from jupyter_jsmol.pymatgen import quick_view"
   ]
  },
  {
   "cell_type": "markdown",
   "id": "outer-question",
   "metadata": {},
   "source": [
    "## Téléchargement du fichier CIF symmetrized de KTiO2"
   ]
  },
  {
   "cell_type": "code",
   "execution_count": 2,
   "id": "dried-platinum",
   "metadata": {},
   "outputs": [],
   "source": [
    "with MPRester(\"zJnMwSh4qdHWgiI1\") as m:\n",
    "\n",
    "    # Structure for material id\n",
    "    structure = m.get_structure_by_material_id(\"mp-8175\")\n",
    "    CifWriter(structure,0.1, write_magmoms=False).write_file(\"KTIO2_mp-9361_symmetrized.cif\")\n"
   ]
  },
  {
   "cell_type": "code",
   "execution_count": 3,
   "id": "european-functionality",
   "metadata": {},
   "outputs": [],
   "source": [
    "sga = SpacegroupAnalyzer(structure)\n",
    "conv_sga = sga.get_conventional_standard_structure()\n",
    "new_sga = SpacegroupAnalyzer(conv_sga)\n"
   ]
  },
  {
   "cell_type": "markdown",
   "id": "injured-birmingham",
   "metadata": {},
   "source": [
    "## On récupère 3 symétries du cristal"
   ]
  },
  {
   "cell_type": "code",
   "execution_count": 4,
   "id": "public-lotus",
   "metadata": {},
   "outputs": [
    {
     "name": "stdout",
     "output_type": "stream",
     "text": [
      "Rot:\n",
      "[[ 0.  0. -1.]\n",
      " [-1.  0.  0.]\n",
      " [ 0. -1.  0.]]\n",
      "tau\n",
      "[0. 0. 0.]\n",
      "Rot:\n",
      "[[ 0. -1.  0.]\n",
      " [ 0.  0. -1.]\n",
      " [-1.  0.  0.]]\n",
      "tau\n",
      "[0. 0. 0.]\n"
     ]
    }
   ],
   "source": [
    "sym = SpacegroupAnalyzer(structure).get_symmetry_operations()\n",
    "\n",
    "S1 = sym[1]\n",
    "S2 = sym[3]\n",
    "S3 = sym[5]\n",
    "\n",
    "print(S2)\n",
    "print(S3)"
   ]
  },
  {
   "cell_type": "markdown",
   "id": "sitting-vegetarian",
   "metadata": {},
   "source": [
    "## Coordonnées initiales des trois atomes choisis"
   ]
  },
  {
   "cell_type": "code",
   "execution_count": 5,
   "id": "signed-westminster",
   "metadata": {},
   "outputs": [],
   "source": [
    "K_init = [0.00000, 0.00000, 0.50000]\n",
    "Ti_init = [0.00000,0.00000,0.00000]\n",
    "O1_init = [0.00000,0.00000,0.26780]"
   ]
  },
  {
   "cell_type": "markdown",
   "id": "fatal-valley",
   "metadata": {},
   "source": [
    "## Application d'une symétrie à chacun des trois atomes"
   ]
  },
  {
   "cell_type": "code",
   "execution_count": 6,
   "id": "latin-federation",
   "metadata": {},
   "outputs": [],
   "source": [
    "K_f = S1.operate(K_init)\n",
    "Ti_f = S2.operate(Ti_init)\n",
    "O1_f = S3.operate(O1_init)"
   ]
  },
  {
   "cell_type": "markdown",
   "id": "interstate-parks",
   "metadata": {},
   "source": [
    "## Première opération de symétrie sur l'atome  K"
   ]
  },
  {
   "cell_type": "code",
   "execution_count": 7,
   "id": "academic-annex",
   "metadata": {},
   "outputs": [
    {
     "name": "stdout",
     "output_type": "stream",
     "text": [
      "Position initiale de l'atome K : [0.0, 0.0, 0.5]\n",
      "\n",
      "Position finale de l'atome K : [ 0.   0.  -0.5]\n",
      "\n",
      "Opération de symétrie : Inversion autour du point [0, 0, 0] \n",
      "\n",
      "Matrice de rotation :\n",
      "[[-1.  0.  0.]\n",
      " [ 0. -1.  0.]\n",
      " [ 0.  0. -1.]]\n",
      "\n",
      "Matrice de translation :\n",
      "[0. 0. 0.]\n",
      "\n"
     ]
    },
    {
     "data": {
      "application/vnd.jupyter.widget-view+json": {
       "model_id": "bafc15efaece4553af64879f1fc77ee4",
       "version_major": 2,
       "version_minor": 0
      },
      "text/plain": [
       "JsmolView(layout=Layout(align_self='stretch', height='400px'))"
      ]
     },
     "metadata": {},
     "output_type": "display_data"
    }
   ],
   "source": [
    "print(\"Position initiale de l'atome K : \" + str(K_init)+\"\\n\")\n",
    "print(\"Position finale de l'atome K : \" + str(K_f)+\"\\n\")\n",
    "print(\"Opération de symétrie : Inversion autour du point [0, 0, 0] \\n\")\n",
    "print(\"Matrice de rotation :\\n\" + str(S1.rotation_matrix) +\"\\n\")\n",
    "print( \"Matrice de translation :\\n\" + str(S1.translation_vector) + \"\\n\")\n",
    "view=quick_view(conv_sga,supercell= [1,1,1])\n",
    "display(view)\n",
    "view.script(\"draw symop 2 {atomno=1}\")"
   ]
  },
  {
   "cell_type": "markdown",
   "id": "rural-house",
   "metadata": {},
   "source": [
    "## Seconde opération de symétrie sur l'atome Ti"
   ]
  },
  {
   "cell_type": "code",
   "execution_count": 8,
   "id": "painful-method",
   "metadata": {},
   "outputs": [
    {
     "name": "stdout",
     "output_type": "stream",
     "text": [
      "Position initiale de l'atome Ti : [0.0, 0.0, 0.0]\n",
      "\n",
      "Position finale de l'atome Ti : [0. 0. 0.]\n",
      "\n",
      "Opération de symétrie : Roto-inversion d'ordre 3 \n",
      "\n",
      "Matrice de rotation :\n",
      "[[ 0.  0. -1.]\n",
      " [-1.  0.  0.]\n",
      " [ 0. -1.  0.]]\n",
      "\n",
      "Matrice de translation :\n",
      "[0. 0. 0.]\n",
      "\n"
     ]
    },
    {
     "data": {
      "application/vnd.jupyter.widget-view+json": {
       "model_id": "53c1b01ab6884fe3a25120758fbcd17e",
       "version_major": 2,
       "version_minor": 0
      },
      "text/plain": [
       "JsmolView(layout=Layout(align_self='stretch', height='400px'))"
      ]
     },
     "metadata": {},
     "output_type": "display_data"
    }
   ],
   "source": [
    "print(\"Position initiale de l'atome Ti : \" + str(Ti_init)+\"\\n\")\n",
    "print(\"Position finale de l'atome Ti : \" + str(Ti_f)+\"\\n\")\n",
    "print(\"Opération de symétrie : Roto-inversion d'ordre 3 \\n\")\n",
    "print(\"Matrice de rotation :\\n\" + str(S2.rotation_matrix) +\"\\n\")\n",
    "print( \"Matrice de translation :\\n\" + str(S2.translation_vector) + \"\\n\")\n",
    "view2=quick_view(conv_sga,supercell= [1,1,1])\n",
    "display(view2)\n",
    "view2.script(\"draw symop 4 {atomno=2}\")\n"
   ]
  },
  {
   "cell_type": "markdown",
   "id": "sufficient-engineering",
   "metadata": {},
   "source": [
    "## Troisième opération de symétrie sur l'atome O1"
   ]
  },
  {
   "cell_type": "code",
   "execution_count": 9,
   "id": "colonial-lingerie",
   "metadata": {},
   "outputs": [
    {
     "name": "stdout",
     "output_type": "stream",
     "text": [
      "Position initiale de l'atome O1 : [0.0, 0.0, 0.2678]\n",
      "\n",
      "Position finale de l'atome O1 : [ 0.     -0.2678  0.    ]\n",
      "\n",
      "Opération de symétrie : Roto-inversion d'ordre 3 \n",
      "\n",
      "Matrice de rotation :\n",
      "[[ 0. -1.  0.]\n",
      " [ 0.  0. -1.]\n",
      " [-1.  0.  0.]]\n",
      "\n",
      "Matrice de translation :\n",
      "[0. 0. 0.]\n",
      "\n"
     ]
    },
    {
     "data": {
      "application/vnd.jupyter.widget-view+json": {
       "model_id": "8a41932d293a4c17b27fdf29e6e0895d",
       "version_major": 2,
       "version_minor": 0
      },
      "text/plain": [
       "JsmolView(layout=Layout(align_self='stretch', height='400px'))"
      ]
     },
     "metadata": {},
     "output_type": "display_data"
    }
   ],
   "source": [
    "print(\"Position initiale de l'atome O1 : \" + str(O1_init)+\"\\n\")\n",
    "print(\"Position finale de l'atome O1 : \" + str(O1_f)+\"\\n\")\n",
    "print(\"Opération de symétrie : Roto-inversion d'ordre 3 \\n\")\n",
    "print(\"Matrice de rotation :\\n\" + str(S3.rotation_matrix) +\"\\n\")\n",
    "print( \"Matrice de translation :\\n\" + str(S3.translation_vector) + \"\\n\")\n",
    "\n",
    "view3=quick_view(conv_sga,supercell= [1,1,1])\n",
    "display(view3)\n",
    "view3.script(\"draw symop 7 {atomno=3}\")\n"
   ]
  }
 ],
 "metadata": {
  "kernelspec": {
   "display_name": "Python 3",
   "language": "python",
   "name": "python3"
  },
  "language_info": {
   "codemirror_mode": {
    "name": "ipython",
    "version": 3
   },
   "file_extension": ".py",
   "mimetype": "text/x-python",
   "name": "python",
   "nbconvert_exporter": "python",
   "pygments_lexer": "ipython3",
   "version": "3.6.8"
  }
 },
 "nbformat": 4,
 "nbformat_minor": 5
}
