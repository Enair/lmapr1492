{
 "cells": [
  {
   "cell_type": "code",
   "execution_count": 1,
   "id": "unlikely-ceramic",
   "metadata": {},
   "outputs": [],
   "source": [
    "from pymatgen import MPRester\n",
    "from pymatgen.io.cif import CifWriter\n",
    "from pymatgen.symmetry.analyzer import *"
   ]
  },
  {
   "cell_type": "code",
   "execution_count": 2,
   "id": "favorite-words",
   "metadata": {},
   "outputs": [],
   "source": [
    "with MPRester(\"zJnMwSh4qdHWgiI1\") as m:\n",
    "\n",
    "    # Structure for material id\n",
    "    structure = m.get_structure_by_material_id(\"mp-8175\")\n",
    "    CifWriter(structure,0.1, write_magmoms=False).write_file(\"KTiO2_mp-8175_symmetrized.cif\")\n"
   ]
  },
  {
   "cell_type": "code",
   "execution_count": 3,
   "id": "digital-directory",
   "metadata": {},
   "outputs": [],
   "source": [
    "#réseau direct\n",
    "reseaudirect = structure.lattice\n",
    "#réseau réciproque\n",
    "reseaureciproque = structure.lattice.reciprocal_lattice\n",
    "\n",
    "\n",
    "spa = SpacegroupAnalyzer(structure,0.1)\n",
    "data = spa.get_primitive_standard_structure()\n",
    "\n",
    "\n",
    "#type de maille\n",
    "typemaille = spa.get_lattice_type()\n",
    "#système cristallin\n",
    "syscris = spa.get_crystal_system()\n",
    "#groupe ponctuel\n",
    "grpponct = spa.get_point_group_symbol()\n",
    "\n"
   ]
  },
  {
   "cell_type": "code",
   "execution_count": 4,
   "id": "early-detective",
   "metadata": {},
   "outputs": [
    {
     "name": "stdout",
     "output_type": "stream",
     "text": [
      "Vecteur de base du reseau direct : \n",
      "6.264030 -1.753051 0.000000\n",
      "6.264030 1.753051 0.000000\n",
      "5.773421 0.000000 2.996475\n"
     ]
    }
   ],
   "source": [
    "print(\"Vecteur de base du reseau direct : \")\n",
    "print(str(reseaudirect))"
   ]
  },
  {
   "cell_type": "code",
   "execution_count": 5,
   "id": "graphic-soundtrack",
   "metadata": {},
   "outputs": [
    {
     "name": "stdout",
     "output_type": "stream",
     "text": [
      "Vecteur de base du reseau réciproque : \n",
      "0.501529 -1.792071 -0.966315\n",
      "0.501529 1.792071 -0.966315\n",
      "0.000000 0.000000 2.096859\n"
     ]
    }
   ],
   "source": [
    "print(\"Vecteur de base du reseau réciproque : \")\n",
    "print(str(reseaureciproque))\n",
    "\n",
    "\n"
   ]
  },
  {
   "cell_type": "code",
   "execution_count": 7,
   "id": "cross-integral",
   "metadata": {},
   "outputs": [
    {
     "name": "stdout",
     "output_type": "stream",
     "text": [
      "Type de maille : rhombohedral\n",
      "\n",
      "Système cristallin : trigonal\n",
      "\n",
      "Groupe ponctuel : -3m\n",
      "\n"
     ]
    }
   ],
   "source": [
    "print(\"Type de maille : \" + str(typemaille)+ \"\\n\")\n",
    "print(\"Système cristallin : \" + str(syscris)+ \"\\n\")\n",
    "print(\"Groupe ponctuel : \" + str(grpponct)+ \"\\n\")\n"
   ]
  }
 ],
 "metadata": {
  "celltoolbar": "Format de la Cellule Texte Brut",
  "kernelspec": {
   "display_name": "Python 3",
   "language": "python",
   "name": "python3"
  },
  "language_info": {
   "codemirror_mode": {
    "name": "ipython",
    "version": 3
   },
   "file_extension": ".py",
   "mimetype": "text/x-python",
   "name": "python",
   "nbconvert_exporter": "python",
   "pygments_lexer": "ipython3",
   "version": "3.6.8"
  }
 },
 "nbformat": 4,
 "nbformat_minor": 5
}
